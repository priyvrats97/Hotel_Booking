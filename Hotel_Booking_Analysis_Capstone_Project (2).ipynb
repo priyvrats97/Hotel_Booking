{
  "nbformat": 4,
  "nbformat_minor": 0,
  "metadata": {
    "kernelspec": {
      "display_name": "Python 3",
      "language": "python",
      "name": "python3"
    },
    "language_info": {
      "codemirror_mode": {
        "name": "ipython",
        "version": 3
      },
      "file_extension": ".py",
      "mimetype": "text/x-python",
      "name": "python",
      "nbconvert_exporter": "python",
      "pygments_lexer": "ipython3",
      "version": "3.6.6"
    },
    "colab": {
      "name": "Hotel Booking Analysis - Capstone Project.ipynb",
      "provenance": []
    }
  },
  "cells": [
    {
      "cell_type": "markdown",
      "metadata": {
        "id": "Y06xIdG26kRF"
      },
      "source": [
        "## <b> Have you ever wondered when the best time of year to book a hotel room is? Or the optimal length of stay in order to get the best daily rate? What if you wanted to predict whether or not a hotel was likely to receive a disproportionately high number of special requests? This hotel booking dataset can help you explore those questions!\n",
        "\n",
        "## <b>This data set contains booking information for a city hotel and a resort hotel, and includes information such as when the booking was made, length of stay, the number of adults, children, and/or babies, and the number of available parking spaces, among other things. All personally identifying information has been removed from the data. </b>\n",
        "\n",
        "## <b> Explore and analyze the data to discover important factors that govern the bookings. </b>"
      ]
    },
    {
      "cell_type": "markdown",
      "source": [
        ""
      ],
      "metadata": {
        "id": "5HS3nV0KRTSC"
      }
    },
    {
      "cell_type": "markdown",
      "source": [
        "**IMPORT LIBRARIES**\n",
        "\n",
        "**Impoting all the important libraries.**"
      ],
      "metadata": {
        "id": "4mZztBqwWE_J"
      }
    },
    {
      "cell_type": "code",
      "metadata": {
        "id": "j2996VGAKyVQ"
      },
      "source": [
        "#import the libraries.\n",
        "import numpy as np\n",
        "import pandas as pd\n",
        "import matplotlib.pyplot as plt\n",
        "import seaborn as sns\n",
        "import plotly.express as px\n",
        "import plotly.graph_objects as pg\n",
        "%matplotlib inline\n",
        "import warnings\n",
        "warnings.filterwarnings('ignore')"
      ],
      "execution_count": null,
      "outputs": []
    },
    {
      "cell_type": "markdown",
      "source": [
        "We imported all the important libraries for the purpose of using functionality."
      ],
      "metadata": {
        "id": "sxtRuUArWBE3"
      }
    },
    {
      "cell_type": "markdown",
      "source": [
        "**For reading dataset into pandas dataframe**"
      ],
      "metadata": {
        "id": "HIIJthMyV2nC"
      }
    },
    {
      "cell_type": "code",
      "source": [
        "# Mount your drive \n",
        "from google.colab import drive\n",
        "drive.mount('/content/drive')"
      ],
      "metadata": {
        "id": "B4cuKRbtQweW"
      },
      "execution_count": null,
      "outputs": []
    },
    {
      "cell_type": "code",
      "source": [
        "#Read the data set of \"Hotel Booking\" from variable name data\n",
        "data= pd.read_csv(\"/content/drive/MyDrive/Hotel Bookings.csv\")"
      ],
      "metadata": {
        "id": "Mn0wMo71QwvN"
      },
      "execution_count": null,
      "outputs": []
    },
    {
      "cell_type": "markdown",
      "source": [
        "The purpose of loading the data \"hotel_bookings.csv\" into a dataframe."
      ],
      "metadata": {
        "id": "rNwng8grVcL6"
      }
    },
    {
      "cell_type": "code",
      "source": [
        "#creating a copy of dataset\n",
        "df=data.copy()"
      ],
      "metadata": {
        "id": "kHtR2JTSQwww"
      },
      "execution_count": null,
      "outputs": []
    },
    {
      "cell_type": "markdown",
      "source": [
        "Coping the whole dataset from variable \"data\" to\"df\" using the independent copy function."
      ],
      "metadata": {
        "id": "qTbvqFIUVqKU"
      }
    },
    {
      "cell_type": "code",
      "source": [
        "#Printing the data\n",
        "df"
      ],
      "metadata": {
        "id": "FujSSVoyVgEV"
      },
      "execution_count": null,
      "outputs": []
    },
    {
      "cell_type": "markdown",
      "source": [
        "\n",
        "To print the data in column wise manner after upload the csv file in the dataframe."
      ],
      "metadata": {
        "id": "xhO8-PEnVhZp"
      }
    },
    {
      "cell_type": "code",
      "source": [
        "#To find out the shape of data\n",
        "df.shape"
      ],
      "metadata": {
        "id": "NwGTaivBQw1O"
      },
      "execution_count": null,
      "outputs": []
    },
    {
      "cell_type": "markdown",
      "source": [
        "For the better understanding, we print the shape of data which shows the number of column and rows. We have total 119390 rows and 32 columns."
      ],
      "metadata": {
        "id": "CO7pT5LKVMwC"
      }
    },
    {
      "cell_type": "code",
      "source": [
        "#Print head of dataframe\n",
        "df.head()"
      ],
      "metadata": {
        "id": "J8CJjcQRQw23"
      },
      "execution_count": null,
      "outputs": []
    },
    {
      "cell_type": "code",
      "source": [
        "#Print tail of dataframe\n",
        "df.tail()"
      ],
      "metadata": {
        "id": "rA8p-6bQRRk3"
      },
      "execution_count": null,
      "outputs": []
    },
    {
      "cell_type": "markdown",
      "source": [
        "Here we have pinted 5 top and bottom rows of the date using 'Head' and 'Tail' method."
      ],
      "metadata": {
        "id": "ATCQoNTYVFIq"
      }
    },
    {
      "cell_type": "code",
      "source": [
        "#To show all the columns of the dataset\n",
        "df.columns"
      ],
      "metadata": {
        "id": "gOYUiKGyRRnA"
      },
      "execution_count": null,
      "outputs": []
    },
    {
      "cell_type": "markdown",
      "source": [
        "To get all the columns of the Pandas dataframe."
      ],
      "metadata": {
        "id": "h9QzTrL_U877"
      }
    },
    {
      "cell_type": "code",
      "source": [
        "#To show the information of all the important aspects of dataset \n",
        "df.info()"
      ],
      "metadata": {
        "id": "2717QfgORRtO"
      },
      "execution_count": null,
      "outputs": []
    },
    {
      "cell_type": "markdown",
      "source": [
        "To print a concise summary of a DataFrame."
      ],
      "metadata": {
        "id": "CCe50IggUyzn"
      }
    },
    {
      "cell_type": "code",
      "source": [
        "#Describe summary of the dataset\n",
        "df.describe(include=\"all\")"
      ],
      "metadata": {
        "id": "qjdIrDnTRhSE"
      },
      "execution_count": null,
      "outputs": []
    },
    {
      "cell_type": "markdown",
      "source": [
        "This is function is applied to get a descriptve summary of data set."
      ],
      "metadata": {
        "id": "rk959QYSUppy"
      }
    },
    {
      "cell_type": "code",
      "source": [
        "#To transpose data\n",
        "df.describe().T"
      ],
      "metadata": {
        "id": "Srt-ox0wRhfm"
      },
      "execution_count": null,
      "outputs": []
    },
    {
      "cell_type": "markdown",
      "source": [
        "With the describe function T property used to transpose the data where columns are converted into the rows and rows became columns."
      ],
      "metadata": {
        "id": "emVIoDnOUfO8"
      }
    },
    {
      "cell_type": "code",
      "source": [
        "#To find out duplicate values \n",
        "df[df.duplicated()].shape"
      ],
      "metadata": {
        "id": "2pB1J37vRqzn"
      },
      "execution_count": null,
      "outputs": []
    },
    {
      "cell_type": "code",
      "source": [
        "#To count the duplicated values \n",
        "df.duplicated().value_counts()"
      ],
      "metadata": {
        "id": "IcSWgHZ_Rq1o"
      },
      "execution_count": null,
      "outputs": []
    },
    {
      "cell_type": "code",
      "source": [
        "#Drop duplicate values \n",
        "df= df.drop_duplicates()\n",
        "df.shape"
      ],
      "metadata": {
        "id": "VwOzmRE-Rq9i"
      },
      "execution_count": null,
      "outputs": []
    },
    {
      "cell_type": "markdown",
      "source": [
        "Above 3 steps are used to find out the duplicate values and removing them. Current data is important and must be in precise form."
      ],
      "metadata": {
        "id": "3Yar5GUqUTzH"
      }
    },
    {
      "cell_type": "code",
      "source": [
        "#To find the size of the data\n",
        "df.size"
      ],
      "metadata": {
        "id": "I1HyqbwfR8GV"
      },
      "execution_count": null,
      "outputs": []
    },
    {
      "cell_type": "code",
      "source": [
        "#Shape of unique values of data set (after removing duplicate values)\n",
        "df.shape"
      ],
      "metadata": {
        "id": "38pHTvlZR8Iw"
      },
      "execution_count": null,
      "outputs": []
    },
    {
      "cell_type": "code",
      "source": [
        "#To find null values\n",
        "df.isnull().sum().sort_values(ascending=False)"
      ],
      "metadata": {
        "id": "8rFG3wL3R8MG"
      },
      "execution_count": null,
      "outputs": []
    },
    {
      "cell_type": "code",
      "source": [
        "#Removing null values\n",
        "df=df.drop(['company'],axis=1)\n",
        "df[\"agent\"].fillna(0, inplace = True)  "
      ],
      "metadata": {
        "id": "U75eBx2yR8PK"
      },
      "execution_count": null,
      "outputs": []
    },
    {
      "cell_type": "code",
      "source": [
        "df = df.dropna(axis = 0)"
      ],
      "metadata": {
        "id": "L2zaWnKASSPB"
      },
      "execution_count": null,
      "outputs": []
    },
    {
      "cell_type": "code",
      "source": [
        "#Detecting null values \n",
        "df.isnull().sum()"
      ],
      "metadata": {
        "id": "8Be_sJHCSSRY"
      },
      "execution_count": null,
      "outputs": []
    },
    {
      "cell_type": "markdown",
      "source": [
        "With this step we are able to get rid of the null values that existed within some columns. While one approach can simply eliminate the whole column, the fact that there is existing data is still important as that there is a sizable presence for that existing data."
      ],
      "metadata": {
        "id": "zqyND-7eUF2F"
      }
    },
    {
      "cell_type": "code",
      "source": [
        "#Dateset after removing null values\n",
        "df.shape"
      ],
      "metadata": {
        "id": "6pywL47rSSVY"
      },
      "execution_count": null,
      "outputs": []
    },
    {
      "cell_type": "markdown",
      "source": [
        "This is the shape of unique data after removing null values."
      ],
      "metadata": {
        "id": "toXY3B-LT-8P"
      }
    },
    {
      "cell_type": "markdown",
      "source": [
        "#**Here we can see some outliers.**\n",
        "\n",
        "**Lets build boxplots to see it better.**"
      ],
      "metadata": {
        "id": "nOkx7X3bTQKD"
      }
    },
    {
      "cell_type": "code",
      "source": [
        "#Check outliers in numerical columns with seaborn boxplot\n",
        "columns = ['lead_time', 'stays_in_weekend_nights', 'stays_in_week_nights', 'adults', 'children', 'babies', 'required_car_parking_spaces', 'adr', 'previous_cancellations', 'previous_bookings_not_canceled', 'booking_changes']\n",
        "plt.figure(figsize=(20,15))\n",
        "m=1\n",
        "for i in columns:\n",
        "  plt.subplot(4,4,m)\n",
        "  m = m+1\n",
        "  sns.boxplot(df[i])"
      ],
      "metadata": {
        "id": "-1COgUWVSShx"
      },
      "execution_count": null,
      "outputs": []
    },
    {
      "cell_type": "code",
      "source": [
        "#Operations to cleanup outliers.\n",
        "df.loc[df.lead_time > 500, 'lead_time'] = 500\n",
        "df.loc[df.stays_in_weekend_nights >=  5, 'stays_in_weekend_nights'] = 5\n",
        "df.loc[df.adults > 4, 'adults'] = 4\n",
        "df.loc[df.previous_bookings_not_canceled > 0, 'previous_bookings_not_canceled'] = 1\n",
        "df.loc[df.previous_cancellations > 0, 'previous_cancellations'] = 1\n",
        "df.loc[df.stays_in_week_nights > 10, 'stays_in_week_nights'] = 10\n",
        "df.loc[df.booking_changes > 5, 'booking_changes'] = 5\n",
        "df.loc[df.babies > 8, 'babies'] = 0\n",
        "df.loc[df.required_car_parking_spaces > 5, 'required_car_parking_spaces'] = 0\n",
        "df.loc[df.children > 8, 'children'] = 0\n",
        "df.loc[df.adr >= 1000, 'adr'] = 800"
      ],
      "metadata": {
        "id": "5TRh9PouSj_6"
      },
      "execution_count": null,
      "outputs": []
    },
    {
      "cell_type": "code",
      "source": [
        "#rechecking outlier existance.\n",
        "columns = ['lead_time', 'stays_in_weekend_nights', 'stays_in_week_nights', 'adults', 'children', 'babies', 'required_car_parking_spaces', 'adr', 'previous_cancellations', 'previous_bookings_not_canceled', 'booking_changes']\n",
        "plt.figure(figsize=(20,15))\n",
        "m=1\n",
        "for i in columns:\n",
        "  plt.subplot(4,4,m)\n",
        "  m = m+1\n",
        "  sns.boxplot(df[i])"
      ],
      "metadata": {
        "id": "dKSMWej7SUMf"
      },
      "execution_count": null,
      "outputs": []
    }
  ]
}