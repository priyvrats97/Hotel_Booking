{
  "nbformat": 4,
  "nbformat_minor": 0,
  "metadata": {
    "kernelspec": {
      "display_name": "Python 3",
      "language": "python",
      "name": "python3"
    },
    "language_info": {
      "codemirror_mode": {
        "name": "ipython",
        "version": 3
      },
      "file_extension": ".py",
      "mimetype": "text/x-python",
      "name": "python",
      "nbconvert_exporter": "python",
      "pygments_lexer": "ipython3",
      "version": "3.6.6"
    },
    "colab": {
      "name": "Copy of Hotel Booking Analysis - Capstone Project.ipynb",
      "provenance": [],
      "collapsed_sections": []
    }
  },
  "cells": [
    {
      "cell_type": "markdown",
      "metadata": {
        "id": "Y06xIdG26kRF"
      },
      "source": [
        "## <b> Have you ever wondered when the best time of year to book a hotel room is? Or the optimal length of stay in order to get the best daily rate? What if you wanted to predict whether or not a hotel was likely to receive a disproportionately high number of special requests? This hotel booking dataset can help you explore those questions!\n",
        "\n",
        "## <b>This data set contains booking information for a city hotel and a resort hotel, and includes information such as when the booking was made, length of stay, the number of adults, children, and/or babies, and the number of available parking spaces, among other things. All personally identifying information has been removed from the data. </b>\n",
        "\n",
        "## <b> Explore and analyze the data to discover important factors that govern the bookings. </b>"
      ]
    },
    {
      "cell_type": "markdown",
      "source": [
        "**IMPORT LIBRARIES**\n",
        "\n",
        "**Impoting all the important libraries.**"
      ],
      "metadata": {
        "id": "4mZztBqwWE_J"
      }
    },
    {
      "cell_type": "code",
      "metadata": {
        "id": "j2996VGAKyVQ"
      },
      "source": [
        "#import the libraries.\n",
        "import numpy as np\n",
        "import pandas as pd\n",
        "import matplotlib.pyplot as plt\n",
        "import seaborn as sns\n",
        "import plotly.express as px\n",
        "import plotly.graph_objects as pg\n",
        "%matplotlib inline\n",
        "import warnings\n",
        "warnings.filterwarnings('ignore')"
      ],
      "execution_count": null,
      "outputs": []
    },
    {
      "cell_type": "markdown",
      "source": [
        "We imported all the important libraries for the purpose of using functionality."
      ],
      "metadata": {
        "id": "sxtRuUArWBE3"
      }
    },
    {
      "cell_type": "markdown",
      "source": [
        "**For reading dataset into pandas dataframe**"
      ],
      "metadata": {
        "id": "HIIJthMyV2nC"
      }
    },
    {
      "cell_type": "code",
      "source": [
        "# Mount your drive \n",
        "from google.colab import drive\n",
        "drive.mount('/content/drive')"
      ],
      "metadata": {
        "id": "B4cuKRbtQweW"
      },
      "execution_count": null,
      "outputs": []
    },
    {
      "cell_type": "code",
      "source": [
        "#Read the data set of \"Hotel Booking\" from variable name data\n",
        "data= pd.read_csv(\"/content/drive/MyDrive/Hotel Bookings.csv\")"
      ],
      "metadata": {
        "id": "Mn0wMo71QwvN"
      },
      "execution_count": null,
      "outputs": []
    },
    {
      "cell_type": "markdown",
      "source": [
        "The purpose of loading the data \"hotel_bookings.csv\" into a dataframe."
      ],
      "metadata": {
        "id": "rNwng8grVcL6"
      }
    },
    {
      "cell_type": "code",
      "source": [
        "#creating a copy of dataset\n",
        "df=data.copy()"
      ],
      "metadata": {
        "id": "kHtR2JTSQwww"
      },
      "execution_count": null,
      "outputs": []
    },
    {
      "cell_type": "markdown",
      "source": [
        "Coping the whole dataset from variable \"data\" to\"df\" using the independent copy function."
      ],
      "metadata": {
        "id": "qTbvqFIUVqKU"
      }
    },
    {
      "cell_type": "code",
      "source": [
        "#Printing the data\n",
        "df"
      ],
      "metadata": {
        "id": "FujSSVoyVgEV"
      },
      "execution_count": null,
      "outputs": []
    },
    {
      "cell_type": "markdown",
      "source": [
        "\n",
        "To print the data in column wise manner after upload the csv file in the dataframe."
      ],
      "metadata": {
        "id": "xhO8-PEnVhZp"
      }
    },
    {
      "cell_type": "code",
      "source": [
        "#To find out the shape of data\n",
        "df.shape"
      ],
      "metadata": {
        "id": "NwGTaivBQw1O"
      },
      "execution_count": null,
      "outputs": []
    },
    {
      "cell_type": "markdown",
      "source": [
        "For the better understanding, we print the shape of data which shows the number of column and rows. We have total 119390 rows and 32 columns."
      ],
      "metadata": {
        "id": "CO7pT5LKVMwC"
      }
    },
    {
      "cell_type": "code",
      "source": [
        "#Print head of dataframe\n",
        "df.head()"
      ],
      "metadata": {
        "id": "J8CJjcQRQw23"
      },
      "execution_count": null,
      "outputs": []
    },
    {
      "cell_type": "code",
      "source": [
        "#Print tail of dataframe\n",
        "df.tail()"
      ],
      "metadata": {
        "id": "rA8p-6bQRRk3"
      },
      "execution_count": null,
      "outputs": []
    },
    {
      "cell_type": "markdown",
      "source": [
        "Here we have pinted 5 top and bottom rows of the date using 'Head' and 'Tail' method."
      ],
      "metadata": {
        "id": "ATCQoNTYVFIq"
      }
    },
    {
      "cell_type": "code",
      "source": [
        "#To show all the columns of the dataset\n",
        "df.columns"
      ],
      "metadata": {
        "id": "gOYUiKGyRRnA"
      },
      "execution_count": null,
      "outputs": []
    },
    {
      "cell_type": "markdown",
      "source": [
        "To get all the columns of the Pandas dataframe."
      ],
      "metadata": {
        "id": "h9QzTrL_U877"
      }
    },
    {
      "cell_type": "code",
      "source": [
        "#To show the information of all the important aspects of dataset \n",
        "df.info()"
      ],
      "metadata": {
        "id": "2717QfgORRtO"
      },
      "execution_count": null,
      "outputs": []
    },
    {
      "cell_type": "markdown",
      "source": [
        "To print a concise summary of a DataFrame."
      ],
      "metadata": {
        "id": "CCe50IggUyzn"
      }
    },
    {
      "cell_type": "code",
      "source": [
        "#Describe summary of the dataset\n",
        "df.describe(include=\"all\")"
      ],
      "metadata": {
        "id": "qjdIrDnTRhSE"
      },
      "execution_count": null,
      "outputs": []
    },
    {
      "cell_type": "markdown",
      "source": [
        "This is function is applied to get a descriptve summary of data set."
      ],
      "metadata": {
        "id": "rk959QYSUppy"
      }
    },
    {
      "cell_type": "code",
      "source": [
        "#To transpose data\n",
        "df.describe().T"
      ],
      "metadata": {
        "id": "Srt-ox0wRhfm"
      },
      "execution_count": null,
      "outputs": []
    },
    {
      "cell_type": "markdown",
      "source": [
        "With the describe function T property used to transpose the data where columns are converted into the rows and rows became columns."
      ],
      "metadata": {
        "id": "emVIoDnOUfO8"
      }
    },
    {
      "cell_type": "code",
      "source": [
        "#To find out duplicate values \n",
        "df[df.duplicated()].shape"
      ],
      "metadata": {
        "id": "2pB1J37vRqzn"
      },
      "execution_count": null,
      "outputs": []
    },
    {
      "cell_type": "code",
      "source": [
        "#To count the duplicated values \n",
        "df.duplicated().value_counts()"
      ],
      "metadata": {
        "id": "IcSWgHZ_Rq1o"
      },
      "execution_count": null,
      "outputs": []
    },
    {
      "cell_type": "code",
      "source": [
        "#Drop duplicate values \n",
        "df= df.drop_duplicates()\n",
        "df.shape"
      ],
      "metadata": {
        "id": "VwOzmRE-Rq9i"
      },
      "execution_count": null,
      "outputs": []
    },
    {
      "cell_type": "markdown",
      "source": [
        "Above 3 steps are used to find out the duplicate values and removing them. Current data is important and must be in precise form."
      ],
      "metadata": {
        "id": "3Yar5GUqUTzH"
      }
    },
    {
      "cell_type": "code",
      "source": [
        "#To find the size of the data\n",
        "df.size"
      ],
      "metadata": {
        "id": "I1HyqbwfR8GV"
      },
      "execution_count": null,
      "outputs": []
    },
    {
      "cell_type": "code",
      "source": [
        "#Shape of unique values of data set (after removing duplicate values)\n",
        "df.shape"
      ],
      "metadata": {
        "id": "38pHTvlZR8Iw"
      },
      "execution_count": null,
      "outputs": []
    },
    {
      "cell_type": "code",
      "source": [
        "#To find null values\n",
        "df.isnull().sum().sort_values(ascending=False)"
      ],
      "metadata": {
        "id": "8rFG3wL3R8MG"
      },
      "execution_count": null,
      "outputs": []
    },
    {
      "cell_type": "code",
      "source": [
        "#Removing null values\n",
        "df=df.drop(['company'],axis=1)\n",
        "df[\"agent\"].fillna(0, inplace = True)  "
      ],
      "metadata": {
        "id": "U75eBx2yR8PK"
      },
      "execution_count": null,
      "outputs": []
    },
    {
      "cell_type": "code",
      "source": [
        "df = df.dropna(axis = 0)"
      ],
      "metadata": {
        "id": "L2zaWnKASSPB"
      },
      "execution_count": null,
      "outputs": []
    },
    {
      "cell_type": "code",
      "source": [
        "#Detecting null values \n",
        "df.isnull().sum()"
      ],
      "metadata": {
        "id": "8Be_sJHCSSRY"
      },
      "execution_count": null,
      "outputs": []
    },
    {
      "cell_type": "markdown",
      "source": [
        "With this step we are able to get rid of the null values that existed within some columns. While one approach can simply eliminate the whole column, the fact that there is existing data is still important as that there is a sizable presence for that existing data."
      ],
      "metadata": {
        "id": "zqyND-7eUF2F"
      }
    },
    {
      "cell_type": "code",
      "source": [
        "#Dateset after removing null values\n",
        "df.shape"
      ],
      "metadata": {
        "id": "6pywL47rSSVY"
      },
      "execution_count": null,
      "outputs": []
    },
    {
      "cell_type": "markdown",
      "source": [
        "This is the shape of unique data after removing null values."
      ],
      "metadata": {
        "id": "toXY3B-LT-8P"
      }
    },
    {
      "cell_type": "markdown",
      "source": [
        "#**Here we can see some outliers.**\n",
        "\n",
        "**Lets build boxplots to see it better.**"
      ],
      "metadata": {
        "id": "nOkx7X3bTQKD"
      }
    },
    {
      "cell_type": "code",
      "source": [
        "#Check outliers in numerical columns with seaborn boxplot\n",
        "columns = ['lead_time', 'stays_in_weekend_nights', 'stays_in_week_nights', 'adults', 'children', 'babies', 'required_car_parking_spaces', 'adr', 'previous_cancellations', 'previous_bookings_not_canceled', 'booking_changes']\n",
        "plt.figure(figsize=(20,15))\n",
        "m=1\n",
        "for i in columns:\n",
        "  plt.subplot(4,4,m)\n",
        "  m = m+1\n",
        "  sns.boxplot(df[i])"
      ],
      "metadata": {
        "id": "-1COgUWVSShx",
        "outputId": "1338ed6e-a5db-4a38-f6e0-49ba8b8a8c8d",
        "colab": {
          "base_uri": "https://localhost:8080/",
          "height": 253
        }
      },
      "execution_count": null,
      "outputs": [
        {
          "output_type": "error",
          "ename": "NameError",
          "evalue": "ignored",
          "traceback": [
            "\u001b[0;31m---------------------------------------------------------------------------\u001b[0m",
            "\u001b[0;31mNameError\u001b[0m                                 Traceback (most recent call last)",
            "\u001b[0;32m<ipython-input-1-b9009abc0dde>\u001b[0m in \u001b[0;36m<module>\u001b[0;34m()\u001b[0m\n\u001b[1;32m      1\u001b[0m \u001b[0;31m#Check outliers in numerical columns with seaborn boxplot\u001b[0m\u001b[0;34m\u001b[0m\u001b[0;34m\u001b[0m\u001b[0;34m\u001b[0m\u001b[0m\n\u001b[1;32m      2\u001b[0m \u001b[0mcolumns\u001b[0m \u001b[0;34m=\u001b[0m \u001b[0;34m[\u001b[0m\u001b[0;34m'lead_time'\u001b[0m\u001b[0;34m,\u001b[0m \u001b[0;34m'stays_in_weekend_nights'\u001b[0m\u001b[0;34m,\u001b[0m \u001b[0;34m'stays_in_week_nights'\u001b[0m\u001b[0;34m,\u001b[0m \u001b[0;34m'adults'\u001b[0m\u001b[0;34m,\u001b[0m \u001b[0;34m'children'\u001b[0m\u001b[0;34m,\u001b[0m \u001b[0;34m'babies'\u001b[0m\u001b[0;34m,\u001b[0m \u001b[0;34m'required_car_parking_spaces'\u001b[0m\u001b[0;34m,\u001b[0m \u001b[0;34m'adr'\u001b[0m\u001b[0;34m,\u001b[0m \u001b[0;34m'previous_cancellations'\u001b[0m\u001b[0;34m,\u001b[0m \u001b[0;34m'previous_bookings_not_canceled'\u001b[0m\u001b[0;34m,\u001b[0m \u001b[0;34m'booking_changes'\u001b[0m\u001b[0;34m]\u001b[0m\u001b[0;34m\u001b[0m\u001b[0;34m\u001b[0m\u001b[0m\n\u001b[0;32m----> 3\u001b[0;31m \u001b[0mplt\u001b[0m\u001b[0;34m.\u001b[0m\u001b[0mfigure\u001b[0m\u001b[0;34m(\u001b[0m\u001b[0mfigsize\u001b[0m\u001b[0;34m=\u001b[0m\u001b[0;34m(\u001b[0m\u001b[0;36m20\u001b[0m\u001b[0;34m,\u001b[0m\u001b[0;36m15\u001b[0m\u001b[0;34m)\u001b[0m\u001b[0;34m)\u001b[0m\u001b[0;34m\u001b[0m\u001b[0;34m\u001b[0m\u001b[0m\n\u001b[0m\u001b[1;32m      4\u001b[0m \u001b[0mm\u001b[0m\u001b[0;34m=\u001b[0m\u001b[0;36m1\u001b[0m\u001b[0;34m\u001b[0m\u001b[0;34m\u001b[0m\u001b[0m\n\u001b[1;32m      5\u001b[0m \u001b[0;32mfor\u001b[0m \u001b[0mi\u001b[0m \u001b[0;32min\u001b[0m \u001b[0mcolumns\u001b[0m\u001b[0;34m:\u001b[0m\u001b[0;34m\u001b[0m\u001b[0;34m\u001b[0m\u001b[0m\n",
            "\u001b[0;31mNameError\u001b[0m: name 'plt' is not defined"
          ]
        }
      ]
    },
    {
      "cell_type": "code",
      "source": [
        "#Operations to cleanup outliers.\n",
        "df.loc[df.lead_time > 500, 'lead_time'] = 500\n",
        "df.loc[df.stays_in_weekend_nights >=  5, 'stays_in_weekend_nights'] = 5\n",
        "df.loc[df.adults > 4, 'adults'] = 4\n",
        "df.loc[df.previous_bookings_not_canceled > 0, 'previous_bookings_not_canceled'] = 1\n",
        "df.loc[df.previous_cancellations > 0, 'previous_cancellations'] = 1\n",
        "df.loc[df.stays_in_week_nights > 10, 'stays_in_week_nights'] = 10\n",
        "df.loc[df.booking_changes > 5, 'booking_changes'] = 5\n",
        "df.loc[df.babies > 8, 'babies'] = 0\n",
        "df.loc[df.required_car_parking_spaces > 5, 'required_car_parking_spaces'] = 0\n",
        "df.loc[df.children > 8, 'children'] = 0\n",
        "df.loc[df.adr >= 1000, 'adr'] = 800"
      ],
      "metadata": {
        "id": "5TRh9PouSj_6"
      },
      "execution_count": null,
      "outputs": []
    },
    {
      "cell_type": "code",
      "source": [
        "#rechecking outlier existance.\n",
        "columns = ['lead_time', 'stays_in_weekend_nights', 'stays_in_week_nights', 'adults', 'children', 'babies', 'required_car_parking_spaces', 'adr', 'previous_cancellations', 'previous_bookings_not_canceled', 'booking_changes']\n",
        "plt.figure(figsize=(20,15))\n",
        "m=1\n",
        "for i in columns:\n",
        "  plt.subplot(4,4,m)\n",
        "  m = m+1\n",
        "  sns.boxplot(df[i])"
      ],
      "metadata": {
        "id": "KqFZhA60SZ_S"
      },
      "execution_count": null,
      "outputs": []
    },
    {
      "cell_type": "markdown",
      "metadata": {
        "id": "96VA_hNVjhNc"
      },
      "source": [
        "**Q 1 - In which year customer arrived most?**"
      ]
    },
    {
      "cell_type": "code",
      "execution_count": null,
      "metadata": {
        "colab": {
          "base_uri": "https://localhost:8080/"
        },
        "id": "9pa1CSLGk1Ai",
        "outputId": "6c582cfe-9108-49ce-d10b-c7f6da2ac230"
      },
      "outputs": [
        {
          "output_type": "execute_result",
          "data": {
            "text/plain": [
              "arrival_date_year\n",
              "2015    13200\n",
              "2016    42124\n",
              "2017    31616\n",
              "Name: hotel, dtype: int64"
            ]
          },
          "metadata": {},
          "execution_count": 31
        }
      ],
      "source": [
        "# Yearly bookings of the hotel by customer\n",
        "hotel_booking1=df.groupby('arrival_date_year')['hotel'].count()\n",
        "hotel_booking1"
      ]
    },
    {
      "cell_type": "code",
      "execution_count": null,
      "metadata": {
        "colab": {
          "base_uri": "https://localhost:8080/",
          "height": 437
        },
        "id": "4dw_rC1gm_HW",
        "outputId": "48ec719f-bc52-4b42-8725-4c12c39181de"
      },
      "outputs": [
        {
          "output_type": "execute_result",
          "data": {
            "text/plain": [
              "<matplotlib.axes._subplots.AxesSubplot at 0x7f516c0d1190>"
            ]
          },
          "metadata": {},
          "execution_count": 32
        },
        {
          "output_type": "display_data",
          "data": {
            "text/plain": [
              "<Figure size 576x432 with 1 Axes>"
            ],
            "image/png": "[encoded data removed]"
          },
          "metadata": {
            "needs_background": "light"
          }
        }
      ],
      "source": [
        "hotel_booking1.plot(kind='bar', figsize = (8,6), title = 'customer_arrival_date_year')"
      ]
    },
    {
      "cell_type": "markdown",
      "source": [
        "Above graph shows that maximum customer arrive in hotels in year 2016."
      ],
      "metadata": {
        "id": "izwMSoSoyt2W"
      }
    },
    {
      "cell_type": "markdown",
      "metadata": {
        "id": "CNKOG3mmpxYP"
      },
      "source": [
        "**Q2 - Which country represent the maximum number of bookings?**"
      ]
    },
    {
      "cell_type": "code",
      "execution_count": null,
      "metadata": {
        "colab": {
          "base_uri": "https://localhost:8080/",
          "height": 542
        },
        "id": "M1Y5avAqpH3I",
        "outputId": "1a8e3e8d-e9e0-4cd6-9cdc-3b1963d0bf14"
      },
      "outputs": [
        {
          "output_type": "display_data",
          "data": {
            "text/html": [
              "<html>\n",
              "<head><meta charset=\"utf-8\" /></head>\n",
              "<body>\n",
              "    <div>            <script src=\"https://cdnjs.cloudflare.com/ajax/libs/mathjax/2.7.5/MathJax.js?config=TeX-AMS-MML_SVG\"></script><script type=\"text/javascript\">if (window.MathJax) {MathJax.Hub.Config({SVG: {font: \"STIX-Web\"}});}</script>                <script type=\"text/javascript\">window.PlotlyConfig = {MathJaxConfig: 'local'};</script>\n",
              "        <script src=\"https://cdn.plot.ly/plotly-2.8.3.min.js\"></script>                <div id=\"5b422956-8f8b-4fe7-8f04-f761a7bfa6e7\" class=\"plotly-graph-div\" style=\"height:525px; width:100%;\"></div>            <script type=\"text/javascript\">                                    window.PLOTLYENV=window.PLOTLYENV || {};                                    if (document.getElementById(\"5b422956-8f8b-4fe7-8f04-f761a7bfa6e7\")) {                    Plotly.newPlot(                        \"5b422956-8f8b-4fe7-8f04-f761a7bfa6e7\",                        [{\"coloraxis\":\"coloraxis\",\"geo\":\"geo\",\"hovertemplate\":\"<b>%{hovertext}</b><br><br>index=%{location}<br>Count=%{z}<extra></extra>\",\"hovertext\":[\"PRT\",\"GBR\",\"FRA\",\"ESP\",\"DEU\",\"ITA\",\"IRL\",\"BEL\",\"BRA\",\"NLD\",\"USA\",\"CHE\",\"CN\",\"AUT\",\"SWE\",\"CHN\",\"POL\",\"RUS\",\"NOR\",\"ROU\",\"FIN\",\"ISR\",\"DNK\",\"AUS\",\"AGO\",\"LUX\",\"MAR\",\"TUR\",\"ARG\",\"HUN\",\"JPN\",\"IND\",\"CZE\",\"KOR\",\"GRC\",\"HRV\",\"DZA\",\"IRN\",\"EST\",\"ZAF\",\"MEX\",\"LTU\",\"COL\",\"BGR\",\"CHL\",\"NZL\",\"UKR\",\"MOZ\",\"SRB\",\"LVA\",\"ARE\",\"SVK\",\"SAU\",\"CYP\",\"SVN\",\"TWN\",\"THA\",\"TUN\",\"SGP\",\"PHL\",\"EGY\",\"URY\",\"NGA\",\"LBN\",\"ISL\",\"PER\",\"IDN\",\"ECU\",\"MYS\",\"BLR\",\"HKG\",\"CPV\",\"VEN\",\"JOR\",\"GEO\",\"KAZ\",\"CRI\",\"OMN\",\"MLT\",\"KWT\",\"AZE\",\"GIB\",\"QAT\",\"PAK\",\"BIH\",\"DOM\",\"MDV\",\"PRI\",\"SEN\",\"ALB\",\"IRQ\",\"CMR\",\"MAC\",\"BGD\",\"GNB\",\"MKD\",\"CUB\",\"ARM\",\"LBY\",\"JEY\",\"PAN\",\"VNM\",\"MUS\",\"AND\",\"LKA\",\"CIV\",\"JAM\",\"KEN\",\"TZA\",\"MNE\",\"BHR\",\"CAF\",\"SUR\",\"ZWE\",\"PRY\",\"MCO\",\"UZB\",\"GAB\",\"GHA\",\"TMP\",\"BEN\",\"GTM\",\"ETH\",\"BOL\",\"SYR\",\"FRO\",\"LIE\",\"SLV\",\"IMN\",\"ABW\",\"ATA\",\"MYT\",\"TJK\",\"BRB\",\"LAO\",\"SYC\",\"TGO\",\"ZMB\",\"COM\",\"MWI\",\"GGY\",\"UGA\",\"RWA\",\"STP\",\"KNA\",\"SDN\",\"ATF\",\"AIA\",\"SLE\",\"DMA\",\"PYF\",\"LCA\",\"GUY\",\"KIR\",\"FJI\",\"BDI\",\"MRT\",\"NCL\",\"ASM\",\"NAM\",\"PLW\",\"NPL\",\"VGB\",\"HND\",\"DJI\",\"GLP\",\"BWA\",\"BHS\",\"UMI\",\"NIC\",\"MDG\",\"SMR\",\"MMR\",\"BFA\",\"CYM\",\"MLI\",\"KHM\"],\"locations\":[\"PRT\",\"GBR\",\"FRA\",\"ESP\",\"DEU\",\"ITA\",\"IRL\",\"BEL\",\"BRA\",\"NLD\",\"USA\",\"CHE\",\"CN\",\"AUT\",\"SWE\",\"CHN\",\"POL\",\"RUS\",\"NOR\",\"ROU\",\"FIN\",\"ISR\",\"DNK\",\"AUS\",\"AGO\",\"LUX\",\"MAR\",\"TUR\",\"ARG\",\"HUN\",\"JPN\",\"IND\",\"CZE\",\"KOR\",\"GRC\",\"HRV\",\"DZA\",\"IRN\",\"EST\",\"ZAF\",\"MEX\",\"LTU\",\"COL\",\"BGR\",\"CHL\",\"NZL\",\"UKR\",\"MOZ\",\"SRB\",\"LVA\",\"ARE\",\"SVK\",\"SAU\",\"CYP\",\"SVN\",\"TWN\",\"THA\",\"TUN\",\"SGP\",\"PHL\",\"EGY\",\"URY\",\"NGA\",\"LBN\",\"ISL\",\"PER\",\"IDN\",\"ECU\",\"MYS\",\"BLR\",\"HKG\",\"CPV\",\"VEN\",\"JOR\",\"GEO\",\"KAZ\",\"CRI\",\"OMN\",\"MLT\",\"KWT\",\"AZE\",\"GIB\",\"QAT\",\"PAK\",\"BIH\",\"DOM\",\"MDV\",\"PRI\",\"SEN\",\"ALB\",\"IRQ\",\"CMR\",\"MAC\",\"BGD\",\"GNB\",\"MKD\",\"CUB\",\"ARM\",\"LBY\",\"JEY\",\"PAN\",\"VNM\",\"MUS\",\"AND\",\"LKA\",\"CIV\",\"JAM\",\"KEN\",\"TZA\",\"MNE\",\"BHR\",\"CAF\",\"SUR\",\"ZWE\",\"PRY\",\"MCO\",\"UZB\",\"GAB\",\"GHA\",\"TMP\",\"BEN\",\"GTM\",\"ETH\",\"BOL\",\"SYR\",\"FRO\",\"LIE\",\"SLV\",\"IMN\",\"ABW\",\"ATA\",\"MYT\",\"TJK\",\"BRB\",\"LAO\",\"SYC\",\"TGO\",\"ZMB\",\"COM\",\"MWI\",\"GGY\",\"UGA\",\"RWA\",\"STP\",\"KNA\",\"SDN\",\"ATF\",\"AIA\",\"SLE\",\"DMA\",\"PYF\",\"LCA\",\"GUY\",\"KIR\",\"FJI\",\"BDI\",\"MRT\",\"NCL\",\"ASM\",\"NAM\",\"PLW\",\"NPL\",\"VGB\",\"HND\",\"DJI\",\"GLP\",\"BWA\",\"BHS\",\"UMI\",\"NIC\",\"MDG\",\"SMR\",\"MMR\",\"BFA\",\"CYM\",\"MLI\",\"KHM\"],\"name\":\"\",\"z\":[27449,10433,8837,7252,5387,3066,3016,2081,1995,1911,1875,1570,1093,947,837,816,765,561,515,458,422,403,384,378,342,262,232,213,203,202,183,143,136,119,117,91,82,80,79,78,74,73,69,68,65,63,62,56,54,51,48,48,45,45,44,43,40,37,34,32,31,30,30,29,26,26,25,25,24,24,23,23,21,19,19,19,18,18,17,16,16,15,14,13,12,12,12,11,11,11,11,10,10,10,9,9,8,8,8,8,8,8,7,7,6,6,6,6,5,5,5,5,5,4,4,4,4,4,4,3,3,3,3,3,3,3,3,2,2,2,2,2,2,2,2,2,2,2,2,2,2,2,2,2,2,1,1,1,1,1,1,1,1,1,1,1,1,1,1,1,1,1,1,1,1,1,1,1,1,1,1,1,1,1,1,1,1],\"type\":\"choropleth\",\"marker\":{\"line\":{\"color\":\"#7201a8\",\"width\":1}}}],                        {\"template\":{\"data\":{\"bar\":[{\"error_x\":{\"color\":\"#2a3f5f\"},\"error_y\":{\"color\":\"#2a3f5f\"},\"marker\":{\"line\":{\"color\":\"#E5ECF6\",\"width\":0.5},\"pattern\":{\"fillmode\":\"overlay\",\"size\":10,\"solidity\":0.2}},\"type\":\"bar\"}],\"barpolar\":[{\"marker\":{\"line\":{\"color\":\"#E5ECF6\",\"width\":0.5},\"pattern\":{\"fillmode\":\"overlay\",\"size\":10,\"solidity\":0.2}},\"type\":\"barpolar\"}],\"carpet\":[{\"aaxis\":{\"endlinecolor\":\"#2a3f5f\",\"gridcolor\":\"white\",\"linecolor\":\"white\",\"minorgridcolor\":\"white\",\"startlinecolor\":\"#2a3f5f\"},\"baxis\":{\"endlinecolor\":\"#2a3f5f\",\"gridcolor\":\"white\",\"linecolor\":\"white\",\"minorgridcolor\":\"white\",\"startlinecolor\":\"#2a3f5f\"},\"type\":\"carpet\"}],\"choropleth\":[{\"colorbar\":{\"outlinewidth\":0,\"ticks\":\"\"},\"type\":\"choropleth\"}],\"contour\":[{\"colorbar\":{\"outlinewidth\":0,\"ticks\":\"\"},\"colorscale\":[[0.0,\"#0d0887\"],[0.1111111111111111,\"#46039f\"],[0.2222222222222222,\"#7201a8\"],[0.3333333333333333,\"#9c179e\"],[0.4444444444444444,\"#bd3786\"],[0.5555555555555556,\"#d8576b\"],[0.6666666666666666,\"#ed7953\"],[0.7777777777777778,\"#fb9f3a\"],[0.8888888888888888,\"#fdca26\"],[1.0,\"#f0f921\"]],\"type\":\"contour\"}],\"contourcarpet\":[{\"colorbar\":{\"outlinewidth\":0,\"ticks\":\"\"},\"type\":\"contourcarpet\"}],\"heatmap\":[{\"colorbar\":{\"outlinewidth\":0,\"ticks\":\"\"},\"colorscale\":[[0.0,\"#0d0887\"],[0.1111111111111111,\"#46039f\"],[0.2222222222222222,\"#7201a8\"],[0.3333333333333333,\"#9c179e\"],[0.4444444444444444,\"#bd3786\"],[0.5555555555555556,\"#d8576b\"],[0.6666666666666666,\"#ed7953\"],[0.7777777777777778,\"#fb9f3a\"],[0.8888888888888888,\"#fdca26\"],[1.0,\"#f0f921\"]],\"type\":\"heatmap\"}],\"heatmapgl\":[{\"colorbar\":{\"outlinewidth\":0,\"ticks\":\"\"},\"colorscale\":[[0.0,\"#0d0887\"],[0.1111111111111111,\"#46039f\"],[0.2222222222222222,\"#7201a8\"],[0.3333333333333333,\"#9c179e\"],[0.4444444444444444,\"#bd3786\"],[0.5555555555555556,\"#d8576b\"],[0.6666666666666666,\"#ed7953\"],[0.7777777777777778,\"#fb9f3a\"],[0.8888888888888888,\"#fdca26\"],[1.0,\"#f0f921\"]],\"type\":\"heatmapgl\"}],\"histogram\":[{\"marker\":{\"pattern\":{\"fillmode\":\"overlay\",\"size\":10,\"solidity\":0.2}},\"type\":\"histogram\"}],\"histogram2d\":[{\"colorbar\":{\"outlinewidth\":0,\"ticks\":\"\"},\"colorscale\":[[0.0,\"#0d0887\"],[0.1111111111111111,\"#46039f\"],[0.2222222222222222,\"#7201a8\"],[0.3333333333333333,\"#9c179e\"],[0.4444444444444444,\"#bd3786\"],[0.5555555555555556,\"#d8576b\"],[0.6666666666666666,\"#ed7953\"],[0.7777777777777778,\"#fb9f3a\"],[0.8888888888888888,\"#fdca26\"],[1.0,\"#f0f921\"]],\"type\":\"histogram2d\"}],\"histogram2dcontour\":[{\"colorbar\":{\"outlinewidth\":0,\"ticks\":\"\"},\"colorscale\":[[0.0,\"#0d0887\"],[0.1111111111111111,\"#46039f\"],[0.2222222222222222,\"#7201a8\"],[0.3333333333333333,\"#9c179e\"],[0.4444444444444444,\"#bd3786\"],[0.5555555555555556,\"#d8576b\"],[0.6666666666666666,\"#ed7953\"],[0.7777777777777778,\"#fb9f3a\"],[0.8888888888888888,\"#fdca26\"],[1.0,\"#f0f921\"]],\"type\":\"histogram2dcontour\"}],\"mesh3d\":[{\"colorbar\":{\"outlinewidth\":0,\"ticks\":\"\"},\"type\":\"mesh3d\"}],\"parcoords\":[{\"line\":{\"colorbar\":{\"outlinewidth\":0,\"ticks\":\"\"}},\"type\":\"parcoords\"}],\"pie\":[{\"automargin\":true,\"type\":\"pie\"}],\"scatter\":[{\"marker\":{\"colorbar\":{\"outlinewidth\":0,\"ticks\":\"\"}},\"type\":\"scatter\"}],\"scatter3d\":[{\"line\":{\"colorbar\":{\"outlinewidth\":0,\"ticks\":\"\"}},\"marker\":{\"colorbar\":{\"outlinewidth\":0,\"ticks\":\"\"}},\"type\":\"scatter3d\"}],\"scattercarpet\":[{\"marker\":{\"colorbar\":{\"outlinewidth\":0,\"ticks\":\"\"}},\"type\":\"scattercarpet\"}],\"scattergeo\":[{\"marker\":{\"colorbar\":{\"outlinewidth\":0,\"ticks\":\"\"}},\"type\":\"scattergeo\"}],\"scattergl\":[{\"marker\":{\"colorbar\":{\"outlinewidth\":0,\"ticks\":\"\"}},\"type\":\"scattergl\"}],\"scattermapbox\":[{\"marker\":{\"colorbar\":{\"outlinewidth\":0,\"ticks\":\"\"}},\"type\":\"scattermapbox\"}],\"scatterpolar\":[{\"marker\":{\"colorbar\":{\"outlinewidth\":0,\"ticks\":\"\"}},\"type\":\"scatterpolar\"}],\"scatterpolargl\":[{\"marker\":{\"colorbar\":{\"outlinewidth\":0,\"ticks\":\"\"}},\"type\":\"scatterpolargl\"}],\"scatterternary\":[{\"marker\":{\"colorbar\":{\"outlinewidth\":0,\"ticks\":\"\"}},\"type\":\"scatterternary\"}],\"surface\":[{\"colorbar\":{\"outlinewidth\":0,\"ticks\":\"\"},\"colorscale\":[[0.0,\"#0d0887\"],[0.1111111111111111,\"#46039f\"],[0.2222222222222222,\"#7201a8\"],[0.3333333333333333,\"#9c179e\"],[0.4444444444444444,\"#bd3786\"],[0.5555555555555556,\"#d8576b\"],[0.6666666666666666,\"#ed7953\"],[0.7777777777777778,\"#fb9f3a\"],[0.8888888888888888,\"#fdca26\"],[1.0,\"#f0f921\"]],\"type\":\"surface\"}],\"table\":[{\"cells\":{\"fill\":{\"color\":\"#EBF0F8\"},\"line\":{\"color\":\"white\"}},\"header\":{\"fill\":{\"color\":\"#C8D4E3\"},\"line\":{\"color\":\"white\"}},\"type\":\"table\"}]},\"layout\":{\"annotationdefaults\":{\"arrowcolor\":\"#2a3f5f\",\"arrowhead\":0,\"arrowwidth\":1},\"autotypenumbers\":\"strict\",\"coloraxis\":{\"colorbar\":{\"outlinewidth\":0,\"ticks\":\"\"}},\"colorscale\":{\"diverging\":[[0,\"#8e0152\"],[0.1,\"#c51b7d\"],[0.2,\"#de77ae\"],[0.3,\"#f1b6da\"],[0.4,\"#fde0ef\"],[0.5,\"#f7f7f7\"],[0.6,\"#e6f5d0\"],[0.7,\"#b8e186\"],[0.8,\"#7fbc41\"],[0.9,\"#4d9221\"],[1,\"#276419\"]],\"sequential\":[[0.0,\"#0d0887\"],[0.1111111111111111,\"#46039f\"],[0.2222222222222222,\"#7201a8\"],[0.3333333333333333,\"#9c179e\"],[0.4444444444444444,\"#bd3786\"],[0.5555555555555556,\"#d8576b\"],[0.6666666666666666,\"#ed7953\"],[0.7777777777777778,\"#fb9f3a\"],[0.8888888888888888,\"#fdca26\"],[1.0,\"#f0f921\"]],\"sequentialminus\":[[0.0,\"#0d0887\"],[0.1111111111111111,\"#46039f\"],[0.2222222222222222,\"#7201a8\"],[0.3333333333333333,\"#9c179e\"],[0.4444444444444444,\"#bd3786\"],[0.5555555555555556,\"#d8576b\"],[0.6666666666666666,\"#ed7953\"],[0.7777777777777778,\"#fb9f3a\"],[0.8888888888888888,\"#fdca26\"],[1.0,\"#f0f921\"]]},\"colorway\":[\"#636efa\",\"#EF553B\",\"#00cc96\",\"#ab63fa\",\"#FFA15A\",\"#19d3f3\",\"#FF6692\",\"#B6E880\",\"#FF97FF\",\"#FECB52\"],\"font\":{\"color\":\"#2a3f5f\"},\"geo\":{\"bgcolor\":\"white\",\"lakecolor\":\"white\",\"landcolor\":\"#E5ECF6\",\"showlakes\":true,\"showland\":true,\"subunitcolor\":\"white\"},\"hoverlabel\":{\"align\":\"left\"},\"hovermode\":\"closest\",\"mapbox\":{\"style\":\"light\"},\"paper_bgcolor\":\"white\",\"plot_bgcolor\":\"#E5ECF6\",\"polar\":{\"angularaxis\":{\"gridcolor\":\"white\",\"linecolor\":\"white\",\"ticks\":\"\"},\"bgcolor\":\"#E5ECF6\",\"radialaxis\":{\"gridcolor\":\"white\",\"linecolor\":\"white\",\"ticks\":\"\"}},\"scene\":{\"xaxis\":{\"backgroundcolor\":\"#E5ECF6\",\"gridcolor\":\"white\",\"gridwidth\":2,\"linecolor\":\"white\",\"showbackground\":true,\"ticks\":\"\",\"zerolinecolor\":\"white\"},\"yaxis\":{\"backgroundcolor\":\"#E5ECF6\",\"gridcolor\":\"white\",\"gridwidth\":2,\"linecolor\":\"white\",\"showbackground\":true,\"ticks\":\"\",\"zerolinecolor\":\"white\"},\"zaxis\":{\"backgroundcolor\":\"#E5ECF6\",\"gridcolor\":\"white\",\"gridwidth\":2,\"linecolor\":\"white\",\"showbackground\":true,\"ticks\":\"\",\"zerolinecolor\":\"white\"}},\"shapedefaults\":{\"line\":{\"color\":\"#2a3f5f\"}},\"ternary\":{\"aaxis\":{\"gridcolor\":\"white\",\"linecolor\":\"white\",\"ticks\":\"\"},\"baxis\":{\"gridcolor\":\"white\",\"linecolor\":\"white\",\"ticks\":\"\"},\"bgcolor\":\"#E5ECF6\",\"caxis\":{\"gridcolor\":\"white\",\"linecolor\":\"white\",\"ticks\":\"\"}},\"title\":{\"x\":0.05},\"xaxis\":{\"automargin\":true,\"gridcolor\":\"white\",\"linecolor\":\"white\",\"ticks\":\"\",\"title\":{\"standoff\":15},\"zerolinecolor\":\"white\",\"zerolinewidth\":2},\"yaxis\":{\"automargin\":true,\"gridcolor\":\"white\",\"linecolor\":\"white\",\"ticks\":\"\",\"title\":{\"standoff\":15},\"zerolinecolor\":\"white\",\"zerolinewidth\":2}}},\"geo\":{\"domain\":{\"x\":[0.0,1.0],\"y\":[0.0,1.0]},\"center\":{}},\"coloraxis\":{\"colorbar\":{\"title\":{\"text\":\"Count\"}},\"colorscale\":[[0.0,\"rgb(255,255,229)\"],[0.125,\"rgb(247,252,185)\"],[0.25,\"rgb(217,240,163)\"],[0.375,\"rgb(173,221,142)\"],[0.5,\"rgb(120,198,121)\"],[0.625,\"rgb(65,171,93)\"],[0.75,\"rgb(35,132,67)\"],[0.875,\"rgb(0,104,55)\"],[1.0,\"rgb(0,69,41)\"]]},\"legend\":{\"tracegroupgap\":0},\"margin\":{\"t\":60},\"title\":{\"font\":{\"size\":29},\"text\":\"Number of Records by Countries\",\"x\":0.5}},                        {\"responsive\": true}                    ).then(function(){\n",
              "                            \n",
              "var gd = document.getElementById('5b422956-8f8b-4fe7-8f04-f761a7bfa6e7');\n",
              "var x = new MutationObserver(function (mutations, observer) {{\n",
              "        var display = window.getComputedStyle(gd).display;\n",
              "        if (!display || display === 'none') {{\n",
              "            console.log([gd, 'removed!']);\n",
              "            Plotly.purge(gd);\n",
              "            observer.disconnect();\n",
              "        }}\n",
              "}});\n",
              "\n",
              "// Listen for the removal of the full notebook cells\n",
              "var notebookContainer = gd.closest('#notebook-container');\n",
              "if (notebookContainer) {{\n",
              "    x.observe(notebookContainer, {childList: true});\n",
              "}}\n",
              "\n",
              "// Listen for the clearing of the current output cell\n",
              "var outputEl = gd.closest('.output');\n",
              "if (outputEl) {{\n",
              "    x.observe(outputEl, {childList: true});\n",
              "}}\n",
              "\n",
              "                        })                };                            </script>        </div>\n",
              "</body>\n",
              "</html>"
            ]
          },
          "metadata": {}
        }
      ],
      "source": [
        "#country with their total bookings  \n",
        "country_count = df['country'].value_counts().to_frame()\n",
        "country_count.columns = ['Count']\n",
        "fig_country = px.choropleth(country_count, color='Count',\n",
        "                    locations=country_count.index,\n",
        "                    hover_name=country_count.index,\n",
        "                    color_continuous_scale=px.colors.sequential.YlGn)\n",
        "fig_country.update_traces(marker=dict(line=dict(color='#7201a8', width=1)))\n",
        "fig_country.update_layout(title_text='Number of Records by Countries',\n",
        "                  title_x=0.5, title_font=dict(size=29),)\n",
        "fig_country.show()\n"
      ]
    },
    {
      "cell_type": "markdown",
      "source": [
        "Around 40% of all bookings were booked from Portugal followed by Great Britain(10%) & France(8%)."
      ],
      "metadata": {
        "id": "OnPTlb397CBw"
      }
    },
    {
      "cell_type": "markdown",
      "source": [
        "**Q3 - Most ordered meal at hotel?**"
      ],
      "metadata": {
        "id": "mD6NlhJQICb1"
      }
    },
    {
      "cell_type": "code",
      "execution_count": null,
      "metadata": {
        "colab": {
          "base_uri": "https://localhost:8080/",
          "height": 369
        },
        "id": "V_BDTeypwiSQ",
        "outputId": "57327d3e-85ca-4676-cace-e6b09ba05636"
      },
      "outputs": [
        {
          "output_type": "display_data",
          "data": {
            "text/plain": [
              "<Figure size 720x360 with 2 Axes>"
            ],
            "image/png": "[encoded data removed]"
          },
          "metadata": {
            "needs_background": "light"
          }
        }
      ],
      "source": [
        "#ordered meal at the hotel\n",
        "sns.catplot(data=data,x='meal',col='hotel',col_wrap=2, kind='count',sharey=False);"
      ]
    },
    {
      "cell_type": "markdown",
      "source": [
        "Out of the meals, BB (Bed & Breakfast) is the most ordered meal which is around 77.2%, followed by HB(Half Board), SC(no meal package), Undefined and FB (Full Board)."
      ],
      "metadata": {
        "id": "ph36A492U8SC"
      }
    },
    {
      "cell_type": "markdown",
      "metadata": {
        "id": "CAmYzXg6sWii"
      },
      "source": [
        "**Q4 - Relation between deposit type and cancellation?**"
      ]
    },
    {
      "cell_type": "code",
      "execution_count": null,
      "metadata": {
        "colab": {
          "base_uri": "https://localhost:8080/",
          "height": 297
        },
        "id": "vyhS8ZMorFuU",
        "outputId": "13cc788b-70f6-422e-8701-9d17755f673d"
      },
      "outputs": [
        {
          "output_type": "execute_result",
          "data": {
            "text/plain": [
              "<matplotlib.axes._subplots.AxesSubplot at 0x7f5168c8a390>"
            ]
          },
          "metadata": {},
          "execution_count": 47
        },
        {
          "output_type": "display_data",
          "data": {
            "text/plain": [
              "<Figure size 432x288 with 1 Axes>"
            ],
            "image/png": "[encoded data removed]"
          },
          "metadata": {
            "needs_background": "light"
          }
        }
      ],
      "source": [
        "#deposit type with cancellation\n",
        "sns.countplot('deposit_type', hue='is_canceled', data=df)"
      ]
    },
    {
      "cell_type": "markdown",
      "source": [
        "Here we observe that Refundable is least type of preferred deposit amongst all. \n",
        "\n",
        "Cancellation is higher in hotel which offers no deposite/no advance payment. And is pretty lower in refundable & non-refundable deposit type. "
      ],
      "metadata": {
        "id": "JAevPcW1DOij"
      }
    },
    {
      "cell_type": "markdown",
      "metadata": {
        "id": "jeukJp1gkxab"
      },
      "source": [
        "**Q5 - Number of customers stays on weekend nights?**"
      ]
    },
    {
      "cell_type": "code",
      "execution_count": null,
      "metadata": {
        "colab": {
          "base_uri": "https://localhost:8080/",
          "height": 143
        },
        "id": "OwjEKBEVZXqx",
        "outputId": "184de594-6920-4c37-8f32-328e4815c90a"
      },
      "outputs": [
        {
          "output_type": "execute_result",
          "data": {
            "text/plain": [
              "stays_in_weekend_nights      0      1      2    3     4    5\n",
              "hotel                                                       \n",
              "City Hotel               23244  15169  14306  301   276  122\n",
              "Resort Hotel             11610   7389  12063  843  1452  165"
            ],
            "text/html": [
              "\n",
              "  <div id=\"df-cc6610c0-9a93-48ef-aa5b-6ff508ec8274\">\n",
              "    <div class=\"colab-df-container\">\n",
              "      <div>\n",
              "<style scoped>\n",
              "    .dataframe tbody tr th:only-of-type {\n",
              "        vertical-align: middle;\n",
              "    }\n",
              "\n",
              "    .dataframe tbody tr th {\n",
              "        vertical-align: top;\n",
              "    }\n",
              "\n",
              "    .dataframe thead th {\n",
              "        text-align: right;\n",
              "    }\n",
              "</style>\n",
              "<table border=\"1\" class=\"dataframe\">\n",
              "  <thead>\n",
              "    <tr style=\"text-align: right;\">\n",
              "      <th>stays_in_weekend_nights</th>\n",
              "      <th>0</th>\n",
              "      <th>1</th>\n",
              "      <th>2</th>\n",
              "      <th>3</th>\n",
              "      <th>4</th>\n",
              "      <th>5</th>\n",
              "    </tr>\n",
              "    <tr>\n",
              "      <th>hotel</th>\n",
              "      <th></th>\n",
              "      <th></th>\n",
              "      <th></th>\n",
              "      <th></th>\n",
              "      <th></th>\n",
              "      <th></th>\n",
              "    </tr>\n",
              "  </thead>\n",
              "  <tbody>\n",
              "    <tr>\n",
              "      <th>City Hotel</th>\n",
              "      <td>23244</td>\n",
              "      <td>15169</td>\n",
              "      <td>14306</td>\n",
              "      <td>301</td>\n",
              "      <td>276</td>\n",
              "      <td>122</td>\n",
              "    </tr>\n",
              "    <tr>\n",
              "      <th>Resort Hotel</th>\n",
              "      <td>11610</td>\n",
              "      <td>7389</td>\n",
              "      <td>12063</td>\n",
              "      <td>843</td>\n",
              "      <td>1452</td>\n",
              "      <td>165</td>\n",
              "    </tr>\n",
              "  </tbody>\n",
              "</table>\n",
              "</div>\n",
              "      <button class=\"colab-df-convert\" onclick=\"convertToInteractive('df-cc6610c0-9a93-48ef-aa5b-6ff508ec8274')\"\n",
              "              title=\"Convert this dataframe to an interactive table.\"\n",
              "              style=\"display:none;\">\n",
              "        \n",
              "  <svg xmlns=\"http://www.w3.org/2000/svg\" height=\"24px\"viewBox=\"0 0 24 24\"\n",
              "       width=\"24px\">\n",
              "    <path d=\"M0 0h24v24H0V0z\" fill=\"none\"/>\n",
              "    <path d=\"M18.56 5.44l.94 2.06.94-2.06 2.06-.94-2.06-.94-.94-2.06-.94 2.06-2.06.94zm-11 1L8.5 8.5l.94-2.06 2.06-.94-2.06-.94L8.5 2.5l-.94 2.06-2.06.94zm10 10l.94 2.06.94-2.06 2.06-.94-2.06-.94-.94-2.06-.94 2.06-2.06.94z\"/><path d=\"M17.41 7.96l-1.37-1.37c-.4-.4-.92-.59-1.43-.59-.52 0-1.04.2-1.43.59L10.3 9.45l-7.72 7.72c-.78.78-.78 2.05 0 2.83L4 21.41c.39.39.9.59 1.41.59.51 0 1.02-.2 1.41-.59l7.78-7.78 2.81-2.81c.8-.78.8-2.07 0-2.86zM5.41 20L4 18.59l7.72-7.72 1.47 1.35L5.41 20z\"/>\n",
              "  </svg>\n",
              "      </button>\n",
              "      \n",
              "  <style>\n",
              "    .colab-df-container {\n",
              "      display:flex;\n",
              "      flex-wrap:wrap;\n",
              "      gap: 12px;\n",
              "    }\n",
              "\n",
              "    .colab-df-convert {\n",
              "      background-color: #E8F0FE;\n",
              "      border: none;\n",
              "      border-radius: 50%;\n",
              "      cursor: pointer;\n",
              "      display: none;\n",
              "      fill: #1967D2;\n",
              "      height: 32px;\n",
              "      padding: 0 0 0 0;\n",
              "      width: 32px;\n",
              "    }\n",
              "\n",
              "    .colab-df-convert:hover {\n",
              "      background-color: #E2EBFA;\n",
              "      box-shadow: 0px 1px 2px rgba(60, 64, 67, 0.3), 0px 1px 3px 1px rgba(60, 64, 67, 0.15);\n",
              "      fill: #174EA6;\n",
              "    }\n",
              "\n",
              "    [theme=dark] .colab-df-convert {\n",
              "      background-color: #3B4455;\n",
              "      fill: #D2E3FC;\n",
              "    }\n",
              "\n",
              "    [theme=dark] .colab-df-convert:hover {\n",
              "      background-color: #434B5C;\n",
              "      box-shadow: 0px 1px 3px 1px rgba(0, 0, 0, 0.15);\n",
              "      filter: drop-shadow(0px 1px 2px rgba(0, 0, 0, 0.3));\n",
              "      fill: #FFFFFF;\n",
              "    }\n",
              "  </style>\n",
              "\n",
              "      <script>\n",
              "        const buttonEl =\n",
              "          document.querySelector('#df-cc6610c0-9a93-48ef-aa5b-6ff508ec8274 button.colab-df-convert');\n",
              "        buttonEl.style.display =\n",
              "          google.colab.kernel.accessAllowed ? 'block' : 'none';\n",
              "\n",
              "        async function convertToInteractive(key) {\n",
              "          const element = document.querySelector('#df-cc6610c0-9a93-48ef-aa5b-6ff508ec8274');\n",
              "          const dataTable =\n",
              "            await google.colab.kernel.invokeFunction('convertToInteractive',\n",
              "                                                     [key], {});\n",
              "          if (!dataTable) return;\n",
              "\n",
              "          const docLinkHtml = 'Like what you see? Visit the ' +\n",
              "            '<a target=\"_blank\" href=https://colab.research.google.com/notebooks/data_table.ipynb>data table notebook</a>'\n",
              "            + ' to learn more about interactive tables.';\n",
              "          element.innerHTML = '';\n",
              "          dataTable['output_type'] = 'display_data';\n",
              "          await google.colab.output.renderOutput(dataTable, element);\n",
              "          const docLink = document.createElement('div');\n",
              "          docLink.innerHTML = docLinkHtml;\n",
              "          element.appendChild(docLink);\n",
              "        }\n",
              "      </script>\n",
              "    </div>\n",
              "  </div>\n",
              "  "
            ]
          },
          "metadata": {},
          "execution_count": 38
        }
      ],
      "source": [
        "#number of customer stays in weekend night\n",
        "df.groupby('hotel')['stays_in_weekend_nights'].value_counts().unstack()"
      ]
    },
    {
      "cell_type": "code",
      "execution_count": null,
      "metadata": {
        "colab": {
          "base_uri": "https://localhost:8080/",
          "height": 340
        },
        "id": "6pPPMxreZeJf",
        "outputId": "f7eff2c7-d9a0-4c07-d92c-82f0c739301f"
      },
      "outputs": [
        {
          "output_type": "execute_result",
          "data": {
            "text/plain": [
              "<matplotlib.axes._subplots.AxesSubplot at 0x7f516c302bd0>"
            ]
          },
          "metadata": {},
          "execution_count": 39
        },
        {
          "output_type": "display_data",
          "data": {
            "text/plain": [
              "<Figure size 1440x432 with 1 Axes>"
            ],
            "image/png": "[encoded data removed]"
          },
          "metadata": {
            "needs_background": "light"
          }
        }
      ],
      "source": [
        "plt.figure(figsize=(20,6))\n",
        "sns.countplot('stays_in_weekend_nights', hue='hotel', data=df)"
      ]
    },
    {
      "cell_type": "markdown",
      "metadata": {
        "id": "id-v1vMtmW7l"
      },
      "source": [
        "**Number of customers stays on week nights?**"
      ]
    },
    {
      "cell_type": "code",
      "execution_count": null,
      "metadata": {
        "colab": {
          "base_uri": "https://localhost:8080/",
          "height": 143
        },
        "id": "5f64DPzrajT6",
        "outputId": "44772967-b536-495f-bf1d-03df092eb300"
      },
      "outputs": [
        {
          "output_type": "execute_result",
          "data": {
            "text/plain": [
              "stays_in_week_nights    0      1      2      3     4     5     6    7    8   \\\n",
              "hotel                                                                         \n",
              "City Hotel            3794  14471  14787  11568  4864  2889   359  193  155   \n",
              "Resort Hotel          2335   7503   5848   4653  3001  6758  1012  772  456   \n",
              "\n",
              "stays_in_week_nights   9     10  \n",
              "hotel                            \n",
              "City Hotel             69   269  \n",
              "Resort Hotel          150  1034  "
            ],
            "text/html": [
              "\n",
              "  <div id=\"df-9976bfd0-d8c0-4364-8517-29af56fbc81b\">\n",
              "    <div class=\"colab-df-container\">\n",
              "      <div>\n",
              "<style scoped>\n",
              "    .dataframe tbody tr th:only-of-type {\n",
              "        vertical-align: middle;\n",
              "    }\n",
              "\n",
              "    .dataframe tbody tr th {\n",
              "        vertical-align: top;\n",
              "    }\n",
              "\n",
              "    .dataframe thead th {\n",
              "        text-align: right;\n",
              "    }\n",
              "</style>\n",
              "<table border=\"1\" class=\"dataframe\">\n",
              "  <thead>\n",
              "    <tr style=\"text-align: right;\">\n",
              "      <th>stays_in_week_nights</th>\n",
              "      <th>0</th>\n",
              "      <th>1</th>\n",
              "      <th>2</th>\n",
              "      <th>3</th>\n",
              "      <th>4</th>\n",
              "      <th>5</th>\n",
              "      <th>6</th>\n",
              "      <th>7</th>\n",
              "      <th>8</th>\n",
              "      <th>9</th>\n",
              "      <th>10</th>\n",
              "    </tr>\n",
              "    <tr>\n",
              "      <th>hotel</th>\n",
              "      <th></th>\n",
              "      <th></th>\n",
              "      <th></th>\n",
              "      <th></th>\n",
              "      <th></th>\n",
              "      <th></th>\n",
              "      <th></th>\n",
              "      <th></th>\n",
              "      <th></th>\n",
              "      <th></th>\n",
              "      <th></th>\n",
              "    </tr>\n",
              "  </thead>\n",
              "  <tbody>\n",
              "    <tr>\n",
              "      <th>City Hotel</th>\n",
              "      <td>3794</td>\n",
              "      <td>14471</td>\n",
              "      <td>14787</td>\n",
              "      <td>11568</td>\n",
              "      <td>4864</td>\n",
              "      <td>2889</td>\n",
              "      <td>359</td>\n",
              "      <td>193</td>\n",
              "      <td>155</td>\n",
              "      <td>69</td>\n",
              "      <td>269</td>\n",
              "    </tr>\n",
              "    <tr>\n",
              "      <th>Resort Hotel</th>\n",
              "      <td>2335</td>\n",
              "      <td>7503</td>\n",
              "      <td>5848</td>\n",
              "      <td>4653</td>\n",
              "      <td>3001</td>\n",
              "      <td>6758</td>\n",
              "      <td>1012</td>\n",
              "      <td>772</td>\n",
              "      <td>456</td>\n",
              "      <td>150</td>\n",
              "      <td>1034</td>\n",
              "    </tr>\n",
              "  </tbody>\n",
              "</table>\n",
              "</div>\n",
              "      <button class=\"colab-df-convert\" onclick=\"convertToInteractive('df-9976bfd0-d8c0-4364-8517-29af56fbc81b')\"\n",
              "              title=\"Convert this dataframe to an interactive table.\"\n",
              "              style=\"display:none;\">\n",
              "        \n",
              "  <svg xmlns=\"http://www.w3.org/2000/svg\" height=\"24px\"viewBox=\"0 0 24 24\"\n",
              "       width=\"24px\">\n",
              "    <path d=\"M0 0h24v24H0V0z\" fill=\"none\"/>\n",
              "    <path d=\"M18.56 5.44l.94 2.06.94-2.06 2.06-.94-2.06-.94-.94-2.06-.94 2.06-2.06.94zm-11 1L8.5 8.5l.94-2.06 2.06-.94-2.06-.94L8.5 2.5l-.94 2.06-2.06.94zm10 10l.94 2.06.94-2.06 2.06-.94-2.06-.94-.94-2.06-.94 2.06-2.06.94z\"/><path d=\"M17.41 7.96l-1.37-1.37c-.4-.4-.92-.59-1.43-.59-.52 0-1.04.2-1.43.59L10.3 9.45l-7.72 7.72c-.78.78-.78 2.05 0 2.83L4 21.41c.39.39.9.59 1.41.59.51 0 1.02-.2 1.41-.59l7.78-7.78 2.81-2.81c.8-.78.8-2.07 0-2.86zM5.41 20L4 18.59l7.72-7.72 1.47 1.35L5.41 20z\"/>\n",
              "  </svg>\n",
              "      </button>\n",
              "      \n",
              "  <style>\n",
              "    .colab-df-container {\n",
              "      display:flex;\n",
              "      flex-wrap:wrap;\n",
              "      gap: 12px;\n",
              "    }\n",
              "\n",
              "    .colab-df-convert {\n",
              "      background-color: #E8F0FE;\n",
              "      border: none;\n",
              "      border-radius: 50%;\n",
              "      cursor: pointer;\n",
              "      display: none;\n",
              "      fill: #1967D2;\n",
              "      height: 32px;\n",
              "      padding: 0 0 0 0;\n",
              "      width: 32px;\n",
              "    }\n",
              "\n",
              "    .colab-df-convert:hover {\n",
              "      background-color: #E2EBFA;\n",
              "      box-shadow: 0px 1px 2px rgba(60, 64, 67, 0.3), 0px 1px 3px 1px rgba(60, 64, 67, 0.15);\n",
              "      fill: #174EA6;\n",
              "    }\n",
              "\n",
              "    [theme=dark] .colab-df-convert {\n",
              "      background-color: #3B4455;\n",
              "      fill: #D2E3FC;\n",
              "    }\n",
              "\n",
              "    [theme=dark] .colab-df-convert:hover {\n",
              "      background-color: #434B5C;\n",
              "      box-shadow: 0px 1px 3px 1px rgba(0, 0, 0, 0.15);\n",
              "      filter: drop-shadow(0px 1px 2px rgba(0, 0, 0, 0.3));\n",
              "      fill: #FFFFFF;\n",
              "    }\n",
              "  </style>\n",
              "\n",
              "      <script>\n",
              "        const buttonEl =\n",
              "          document.querySelector('#df-9976bfd0-d8c0-4364-8517-29af56fbc81b button.colab-df-convert');\n",
              "        buttonEl.style.display =\n",
              "          google.colab.kernel.accessAllowed ? 'block' : 'none';\n",
              "\n",
              "        async function convertToInteractive(key) {\n",
              "          const element = document.querySelector('#df-9976bfd0-d8c0-4364-8517-29af56fbc81b');\n",
              "          const dataTable =\n",
              "            await google.colab.kernel.invokeFunction('convertToInteractive',\n",
              "                                                     [key], {});\n",
              "          if (!dataTable) return;\n",
              "\n",
              "          const docLinkHtml = 'Like what you see? Visit the ' +\n",
              "            '<a target=\"_blank\" href=https://colab.research.google.com/notebooks/data_table.ipynb>data table notebook</a>'\n",
              "            + ' to learn more about interactive tables.';\n",
              "          element.innerHTML = '';\n",
              "          dataTable['output_type'] = 'display_data';\n",
              "          await google.colab.output.renderOutput(dataTable, element);\n",
              "          const docLink = document.createElement('div');\n",
              "          docLink.innerHTML = docLinkHtml;\n",
              "          element.appendChild(docLink);\n",
              "        }\n",
              "      </script>\n",
              "    </div>\n",
              "  </div>\n",
              "  "
            ]
          },
          "metadata": {},
          "execution_count": 40
        }
      ],
      "source": [
        "## monthly bookings of the hotel by customer\n",
        "df.groupby('hotel')['stays_in_week_nights'].value_counts().unstack()"
      ]
    },
    {
      "cell_type": "code",
      "execution_count": null,
      "metadata": {
        "colab": {
          "base_uri": "https://localhost:8080/",
          "height": 297
        },
        "id": "rVMc6mkaajfO",
        "outputId": "e65a5c27-77fb-4087-861b-02bba4bba3cd"
      },
      "outputs": [
        {
          "output_type": "execute_result",
          "data": {
            "text/plain": [
              "<matplotlib.axes._subplots.AxesSubplot at 0x7f51690f46d0>"
            ]
          },
          "metadata": {},
          "execution_count": 41
        },
        {
          "output_type": "display_data",
          "data": {
            "text/plain": [
              "<Figure size 1080x288 with 1 Axes>"
            ],
            "image/png": "[encoded data removed]"
          },
          "metadata": {
            "needs_background": "light"
          }
        }
      ],
      "source": [
        "plt.figure(figsize=(15,4))\n",
        "sns.countplot(\"stays_in_week_nights\", hue=\"hotel\", data=df)"
      ]
    },
    {
      "cell_type": "markdown",
      "source": [
        "We observe that weekday night stays were more in City Hotel as compare to weekend night."
      ],
      "metadata": {
        "id": "6H8H2B7C_Cp7"
      }
    }
  ]
}